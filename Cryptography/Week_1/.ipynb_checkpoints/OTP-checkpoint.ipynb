{
 "cells": [
  {
   "cell_type": "code",
   "execution_count": 152,
   "metadata": {},
   "outputs": [],
   "source": [
    "#OTP encryption\n",
    "import binascii\n",
    "\n",
    "text = \"attack at dawn\"\n",
    "text_ascii_values = []\n",
    "\n",
    "to_guess = \"attack at dusk\"\n",
    "ascii_values_to_guess = []\n",
    "\n",
    "ciphertext = 0x09e1c5f70a65ac519458e7e53f36\n"
   ]
  },
  {
   "cell_type": "code",
   "execution_count": 156,
   "metadata": {},
   "outputs": [
    {
     "data": {
      "text/plain": [
       "[97,\n",
       " 116,\n",
       " 116,\n",
       " 97,\n",
       " 99,\n",
       " 107,\n",
       " 32,\n",
       " 97,\n",
       " 116,\n",
       " 32,\n",
       " 100,\n",
       " 97,\n",
       " 119,\n",
       " 110,\n",
       " 97,\n",
       " 116,\n",
       " 116,\n",
       " 97,\n",
       " 99,\n",
       " 107,\n",
       " 32,\n",
       " 97,\n",
       " 116,\n",
       " 32,\n",
       " 100,\n",
       " 97,\n",
       " 119,\n",
       " 110,\n",
       " 97,\n",
       " 116,\n",
       " 116,\n",
       " 97,\n",
       " 99,\n",
       " 107,\n",
       " 32,\n",
       " 97,\n",
       " 116,\n",
       " 32,\n",
       " 100,\n",
       " 97,\n",
       " 119,\n",
       " 110,\n",
       " 97,\n",
       " 116,\n",
       " 116,\n",
       " 97,\n",
       " 99,\n",
       " 107,\n",
       " 32,\n",
       " 97,\n",
       " 116,\n",
       " 32,\n",
       " 100,\n",
       " 97,\n",
       " 119,\n",
       " 110]"
      ]
     },
     "execution_count": 156,
     "metadata": {},
     "output_type": "execute_result"
    }
   ],
   "source": [
    "for character in text:\n",
    "    ascii_values.append(ord(character))\n",
    "ascii_values"
   ]
  },
  {
   "cell_type": "code",
   "execution_count": 141,
   "metadata": {},
   "outputs": [
    {
     "name": "stdout",
     "output_type": "stream",
     "text": [
      "Original string:  aaa\n",
      "Original cypher:  6381921\n",
      "Key (string ^ cypher):  0x9e1c5f70a65ac519458e7845e57\n",
      "New string:  attack at dusk\n",
      "New cypher:  0x6895b196690e8c30e07883f12d3c\n"
     ]
    }
   ],
   "source": []
  },
  {
   "cell_type": "code",
   "execution_count": null,
   "metadata": {},
   "outputs": [],
   "source": []
  }
 ],
 "metadata": {
  "kernelspec": {
   "display_name": "Python 3",
   "language": "python",
   "name": "python3"
  },
  "language_info": {
   "codemirror_mode": {
    "name": "ipython",
    "version": 3
   },
   "file_extension": ".py",
   "mimetype": "text/x-python",
   "name": "python",
   "nbconvert_exporter": "python",
   "pygments_lexer": "ipython3",
   "version": "3.8.5"
  }
 },
 "nbformat": 4,
 "nbformat_minor": 4
}
