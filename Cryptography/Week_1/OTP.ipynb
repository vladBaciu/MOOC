{
 "cells": [
  {
   "cell_type": "code",
   "execution_count": 175,
   "metadata": {},
   "outputs": [],
   "source": [
    "#OTP encryption\n",
    "import binascii\n",
    "import numpy as np\n",
    "\n",
    "text = \"attack at dawn\"\n",
    "to_guess = \"attack at dusk\"\n",
    "\n",
    "ciphertext = 0x09e1c5f70a65ac519458e7e53f36\n"
   ]
  },
  {
   "cell_type": "code",
   "execution_count": 187,
   "metadata": {},
   "outputs": [
    {
     "name": "stdout",
     "output_type": "stream",
     "text": [
      "0x9e1c5f70a65ac519458e7e53f36\n"
     ]
    }
   ],
   "source": [
    "text_number = 0\n",
    "for letter in text:\n",
    "    text_number = (text_number << 8) + ord(letter)\n",
    "\n",
    "key = text_number ^ ciphertext\n",
    "\n",
    "text_to_guess_number = 0\n",
    "for letter in text:\n",
    "    text_to_guess_number = (text_to_guess_number << 8) + ord(letter)\n",
    "    \n",
    "ciphertext_to_guess = key ^ text_to_guess_number\n",
    "\n",
    "print(hex(ciphertext_to_guess))"
   ]
  }
 ],
 "metadata": {
  "kernelspec": {
   "display_name": "Python 3",
   "language": "python",
   "name": "python3"
  },
  "language_info": {
   "codemirror_mode": {
    "name": "ipython",
    "version": 3
   },
   "file_extension": ".py",
   "mimetype": "text/x-python",
   "name": "python",
   "nbconvert_exporter": "python",
   "pygments_lexer": "ipython3",
   "version": "3.8.5"
  }
 },
 "nbformat": 4,
 "nbformat_minor": 4
}
